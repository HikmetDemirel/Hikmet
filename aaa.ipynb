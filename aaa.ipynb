{
 "cells": [
  {
   "cell_type": "code",
   "execution_count": 3,
   "metadata": {},
   "outputs": [],
   "source": [
    "import cv2\n",
    "\n",
    "import datetime\n",
    "import time\n"
   ]
  },
  {
   "cell_type": "code",
   "execution_count": 130,
   "metadata": {},
   "outputs": [
    {
     "name": "stdout",
     "output_type": "stream",
     "text": [
      " 2, hikmet demirel \n",
      "veri Wednesday _ 2, hikmet demirel _ 21:19:31\n",
      "_---_---\n",
      "\n"
     ]
    }
   ],
   "source": [
    "    import os\n",
    "    try:\n",
    "        os.remove('yedek.txt')\n",
    "    except:\n",
    "        print(0)\n",
    "    tarih = datetime.datetime.now()\n",
    "    tarih_str = tarih.strftime(\"%Y-%m-%d\")\n",
    "    dosya_ad = f\"mesai_takip_{tarih_str}.txt\"\n",
    "\n",
    "    f = open(dosya_ad, \"r\")\n",
    "    datas = []\n",
    "    sicil = []\n",
    "    for i in f:\n",
    "        #print(i)\n",
    "        datas.append(i)\n",
    "        spltt = i.split(\"_\")\n",
    "        parca = spltt[1]\n",
    "        sicil.append(parca)\n",
    "\n",
    "    u_sicil = unique(sicil)\n",
    "    for u_sic in u_sicil:\n",
    "        #print(u_sicil)\n",
    "        search_data = []\n",
    "        for data in datas:\n",
    "            parcalar = data.split(\"_\")\n",
    "            scl = parcalar[1]\n",
    "            gun = parcalar[0]\n",
    "            saat = parcalar[2]\n",
    "            scl = parcalar[1]\n",
    "            if(scl == u_sic):\n",
    "                search_data.append(gun)\n",
    "                search_data.append(scl)\n",
    "                search_data.append(saat)\n",
    "        saat1 = search_data[2]\n",
    "        parcalan = saat1.split(\"\\n\")\n",
    "        saat1 = parcalan[0]\n",
    "        parca = saat1.split(\" \")\n",
    "        saat1 = parca[1]\n",
    "\n",
    "\n",
    "        try:\n",
    "            saat2 = search_data[5]\n",
    "            parcalan = saat2.split(\"\\n\")\n",
    "            saat2 = parcalan[0]\n",
    "            parca = saat2.split(\" \")\n",
    "            saat2 = parca[1]\n",
    "            saat1 = datetime.datetime.strptime(saat1, '%H:%M:%S')\n",
    "            saat2 =datetime.datetime.strptime(saat2, '%H:%M:%S')\n",
    "            harcanan_zaman = saat2-saat1\n",
    "            hours = harcanan_zaman.seconds / 3600\n",
    "            veri = str(search_data[0]).strip()+\"_\"+str(search_data[1]).strip()+\"_\"+str(search_data[2]).strip()+\"_\"+ str(search_data[5]).strip() + \"_\" + str(hours).strip() + '\\n'\n",
    "        except:\n",
    "            veri = str(search_data[0]).strip()+\"_\"+str(search_data[1]).strip()+\"_\"+str(search_data[2]).strip()+str(\"_---_---\").strip()+'\\n'\n",
    "                    \n",
    "        with open(\"yedek.txt\", \"a\") as f:\n",
    "            f.write(veri)\n",
    "\n",
    "\n",
    "        print(\"veri\",veri)\n",
    "   \n",
    "\n"
   ]
  },
  {
   "cell_type": "code",
   "execution_count": 131,
   "metadata": {},
   "outputs": [
    {
     "name": "stdout",
     "output_type": "stream",
     "text": [
      "Wednesday _ 2, hikmet demirel _ 21:19:31\n",
      "\n",
      "['Wednesday ', ' 2, hikmet demirel ', ' 21:19:31\\n']\n",
      "list index out of range\n",
      "_---_---\n",
      "\n",
      "['', '---', '---\\n']\n",
      "list index out of range\n"
     ]
    }
   ],
   "source": [
    "f = open(\"yedek.txt\", \"r\")\n",
    "guns = []\n",
    "persons = []\n",
    "strt_times = []\n",
    "stp_tmes =[]\n",
    "past_tmes = []\n",
    "for i in f:\n",
    "    print(i)\n",
    "    try:\n",
    "        splttt = i.split(\"_\")\n",
    "        print(splttt)\n",
    "        day = splttt[0]\n",
    "        guns.append(day)\n",
    "\n",
    "        persnn = splttt[1]\n",
    "        persons.append(persnn)\n",
    "\n",
    "        startt_time = splttt[2]\n",
    "        strt_times.append(startt_time)\n",
    "\n",
    "        stop_time = splttt[3]\n",
    "        stp_tmes.append(stop_time)\n",
    "\n",
    "        past_time = splttt[4]\n",
    "        past_tmes.append(past_time)\n",
    "   \n",
    "    except Exception as e:\n",
    "        print(e)\n",
    "f.close()"
   ]
  },
  {
   "cell_type": "code",
   "execution_count": 129,
   "metadata": {},
   "outputs": [
    {
     "name": "stdout",
     "output_type": "stream",
     "text": [
      "carsamba 1, Ali Yilmaz 20:58:34 21:03:07 0.07583333333333334\n",
      "\n"
     ]
    }
   ],
   "source": [
    "for j in range(len(persons)):\n",
    "    g = guns[j]\n",
    "    person = persons[j]\n",
    "    strt_time = strt_times[j]\n",
    "    stp_tme = stp_tmes[j]\n",
    "    past_tme = past_tmes[j]\n",
    "    print(g,person,strt_time,stp_tme,past_time)"
   ]
  },
  {
   "cell_type": "code",
   "execution_count": 101,
   "metadata": {},
   "outputs": [
    {
     "data": {
      "text/plain": [
       "'1.006388888888889'"
      ]
     },
     "execution_count": 101,
     "metadata": {},
     "output_type": "execute_result"
    }
   ],
   "source": [
    "str(hours).strip()"
   ]
  },
  {
   "cell_type": "code",
   "execution_count": 59,
   "metadata": {},
   "outputs": [
    {
     "name": "stdout",
     "output_type": "stream",
     "text": [
      " 1, Ali Yilmaz \n"
     ]
    }
   ],
   "source": [
    "def unique(list1):\n",
    " \n",
    "\n",
    "    list_set = set(list1)\n",
    "\n",
    "    unique_list = (list(list_set))\n",
    "    aaa = []\n",
    "    for x in unique_list:\n",
    "        print(x)\n",
    "        aaa.append(x)\n",
    "        #return x\n",
    "    return aaa\n",
    "        \n",
    "\n",
    "\n",
    "u_sicil = unique(sicil)\n",
    " \n"
   ]
  },
  {
   "cell_type": "code",
   "execution_count": 60,
   "metadata": {},
   "outputs": [
    {
     "name": "stdout",
     "output_type": "stream",
     "text": [
      "[' 1, Ali Yilmaz ']\n",
      "['Wednesday _ 1, Ali Yilmaz _ 18:35:22\\n', 'Wednesday _ 1, Ali Yilmaz _ 19:35:45']\n"
     ]
    }
   ],
   "source": [
    "print(u_sicil)\n",
    "print(datas)"
   ]
  },
  {
   "cell_type": "code",
   "execution_count": 61,
   "metadata": {},
   "outputs": [
    {
     "name": "stdout",
     "output_type": "stream",
     "text": [
      "[' 1, Ali Yilmaz ']\n"
     ]
    }
   ],
   "source": [
    "for u_sic in u_sicil:\n",
    "    print(u_sicil)\n",
    "    search_data = []\n",
    "    for data in datas:\n",
    "        parcalar = data.split(\"_\")\n",
    "        scl = parcalar[1]\n",
    "        gun = parcalar[0]\n",
    "        saat = parcalar[2]\n",
    "        scl = parcalar[1]\n",
    "        if(scl == u_sic):\n",
    "            search_data.append(gun)\n",
    "            search_data.append(scl)\n",
    "            search_data.append(saat)\n",
    "    \n",
    "\n",
    "        \n",
    "    "
   ]
  },
  {
   "cell_type": "code",
   "execution_count": 62,
   "metadata": {},
   "outputs": [
    {
     "name": "stdout",
     "output_type": "stream",
     "text": [
      "['Wednesday ', ' 1, Ali Yilmaz ', ' 18:35:22\\n', 'Wednesday ', ' 1, Ali Yilmaz ', ' 19:35:45']\n"
     ]
    }
   ],
   "source": [
    "print(search_data)"
   ]
  },
  {
   "cell_type": "code",
   "execution_count": 63,
   "metadata": {},
   "outputs": [],
   "source": [
    "saat1 = search_data[2]\n",
    "parcalan = saat1.split(\"\\n\")\n",
    "saat1 = parcalan[0]\n",
    "parca = saat1.split(\" \")\n",
    "saat1 = parca[1]\n",
    "\n",
    "\n",
    "\n",
    "saat2 = search_data[5]\n",
    "parcalan = saat2.split(\"\\n\")\n",
    "saat2 = parcalan[0]\n",
    "parca = saat2.split(\" \")\n",
    "saat2 = parca[1]\n",
    "saat1 = datetime.datetime.strptime(saat1, '%H:%M:%S')\n",
    "saat2 =datetime.datetime.strptime(saat2, '%H:%M:%S')\n",
    "harcanan_zaman = saat2-saat1\n",
    "hours = harcanan_zaman.seconds / 3600\n",
    "veri = \"\"+search_data[0]+\"_\"+search_data[1]+\"_\"+search_data[2]+\"_\"+search_data[5]+\"_\"+ str(hours)\n",
    "print(veri)\n"
   ]
  },
  {
   "cell_type": "code",
   "execution_count": 64,
   "metadata": {},
   "outputs": [],
   "source": []
  },
  {
   "cell_type": "code",
   "execution_count": 65,
   "metadata": {},
   "outputs": [],
   "source": [
    "harcanan_zaman = saat2-saat1\n"
   ]
  },
  {
   "cell_type": "code",
   "execution_count": 66,
   "metadata": {},
   "outputs": [
    {
     "data": {
      "text/plain": [
       "60.38333333333333"
      ]
     },
     "execution_count": 66,
     "metadata": {},
     "output_type": "execute_result"
    }
   ],
   "source": [
    "minutes = harcanan_zaman.seconds / 60\n",
    "minutes"
   ]
  },
  {
   "cell_type": "code",
   "execution_count": 68,
   "metadata": {},
   "outputs": [
    {
     "data": {
      "text/plain": [
       "1.006388888888889"
      ]
     },
     "execution_count": 68,
     "metadata": {},
     "output_type": "execute_result"
    }
   ],
   "source": [
    "\n"
   ]
  },
  {
   "cell_type": "code",
   "execution_count": 70,
   "metadata": {},
   "outputs": [
    {
     "name": "stdout",
     "output_type": "stream",
     "text": [
      "Wednesday _ 1, Ali Yilmaz _ 18:35:22\n",
      "_ 19:35:45_1.006388888888889\n"
     ]
    }
   ],
   "source": []
  },
  {
   "cell_type": "code",
   "execution_count": null,
   "metadata": {},
   "outputs": [],
   "source": []
  }
 ],
 "metadata": {
  "kernelspec": {
   "display_name": "Python 3",
   "language": "python",
   "name": "python3"
  },
  "language_info": {
   "codemirror_mode": {
    "name": "ipython",
    "version": 3
   },
   "file_extension": ".py",
   "mimetype": "text/x-python",
   "name": "python",
   "nbconvert_exporter": "python",
   "pygments_lexer": "ipython3",
   "version": "3.10.11"
  },
  "orig_nbformat": 4
 },
 "nbformat": 4,
 "nbformat_minor": 2
}
